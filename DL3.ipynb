{
 "cells": [
  {
   "cell_type": "code",
   "execution_count": 3,
   "id": "25cc1bde",
   "metadata": {},
   "outputs": [
    {
     "name": "stdout",
     "output_type": "stream",
     "text": [
      "Model: \"sequential_2\"\n",
      "_________________________________________________________________\n",
      " Layer (type)                Output Shape              Param #   \n",
      "=================================================================\n",
      " conv2d_4 (Conv2D)           (None, 28, 28, 16)        160       \n",
      "                                                                 \n",
      " max_pooling2d_4 (MaxPooling  (None, 14, 14, 16)       0         \n",
      " 2D)                                                             \n",
      "                                                                 \n",
      " conv2d_5 (Conv2D)           (None, 14, 14, 16)        2320      \n",
      "                                                                 \n",
      " max_pooling2d_5 (MaxPooling  (None, 7, 7, 16)         0         \n",
      " 2D)                                                             \n",
      "                                                                 \n",
      " flatten_2 (Flatten)         (None, 784)               0         \n",
      "                                                                 \n",
      " dense_2 (Dense)             (None, 10)                7850      \n",
      "                                                                 \n",
      "=================================================================\n",
      "Total params: 10,330\n",
      "Trainable params: 10,330\n",
      "Non-trainable params: 0\n",
      "_________________________________________________________________\n"
     ]
    }
   ],
   "source": [
    "import tensorflow as tf\n",
    "from tensorflow.keras import layers, models, optimizers\n",
    "from tensorflow.keras.datasets import mnist\n",
    "\n",
    "# Set random seeds for reproducibility\n",
    "tf.random.set_seed(42)\n",
    "\n",
    "# Load and preprocess the MNIST dataset\n",
    "(x_train, y_train), (x_test, y_test) = mnist.load_data()\n",
    "x_train = x_train.reshape(-1, 28, 28, 1).astype('float32') / 255.0\n",
    "x_test = x_test.reshape(-1, 28, 28, 1).astype('float32') / 255.0\n",
    "\n",
    "# Define the CNN architecture\n",
    "model = models.Sequential()\n",
    "model.add(layers.Conv2D(16, kernel_size=3, strides=1, padding='same', activation='relu', input_shape=(28, 28, 1)))\n",
    "model.add(layers.MaxPooling2D(pool_size=2))\n",
    "model.add(layers.Conv2D(16, kernel_size=3, strides=1, padding='same', activation='relu'))\n",
    "model.add(layers.MaxPooling2D(pool_size=2))\n",
    "model.add(layers.Flatten())\n",
    "model.add(layers.Dense(10, activation='softmax'))\n",
    "\n",
    "# Print the model summary\n",
    "model.summary()\n",
    "\n",
    "# Compile the model\n",
    "model.compile(optimizer=optimizers.Adam(lr=0.001),\n",
    "              loss='sparse_categorical_crossentropy',\n",
    "              metrics=['accuracy'])\n",
    "\n"
   ]
  },
  {
   "cell_type": "code",
   "execution_count": 6,
   "id": "02948589",
   "metadata": {},
   "outputs": [
    {
     "name": "stdout",
     "output_type": "stream",
     "text": [
      "938/938 [==============================] - 10s 11ms/step - loss: 0.0225 - accuracy: 0.9934\n",
      "Epoch 1/20, Validation Accuracy: 98.39%\n",
      "938/938 [==============================] - 10s 11ms/step - loss: 0.0206 - accuracy: 0.9939\n",
      "Epoch 2/20, Validation Accuracy: 98.39%\n",
      "938/938 [==============================] - 11s 11ms/step - loss: 0.0187 - accuracy: 0.9947\n",
      "Epoch 3/20, Validation Accuracy: 98.47%\n",
      "938/938 [==============================] - 11s 12ms/step - loss: 0.0170 - accuracy: 0.9954\n",
      "Epoch 4/20, Validation Accuracy: 98.51%\n",
      "938/938 [==============================] - 11s 12ms/step - loss: 0.0156 - accuracy: 0.9959\n",
      "Epoch 5/20, Validation Accuracy: 98.58%\n",
      "938/938 [==============================] - 10s 11ms/step - loss: 0.0143 - accuracy: 0.9963\n",
      "Epoch 6/20, Validation Accuracy: 98.65%\n",
      "938/938 [==============================] - 10s 11ms/step - loss: 0.0129 - accuracy: 0.9967\n",
      "Epoch 7/20, Validation Accuracy: 98.70%\n",
      "938/938 [==============================] - 10s 11ms/step - loss: 0.0121 - accuracy: 0.9967\n",
      "Epoch 8/20, Validation Accuracy: 98.75%\n",
      "938/938 [==============================] - 10s 11ms/step - loss: 0.0117 - accuracy: 0.9967\n",
      "Epoch 9/20, Validation Accuracy: 98.77%\n",
      "938/938 [==============================] - 10s 11ms/step - loss: 0.0106 - accuracy: 0.9969\n",
      "Epoch 10/20, Validation Accuracy: 98.66%\n",
      "938/938 [==============================] - 10s 11ms/step - loss: 0.0098 - accuracy: 0.9973\n",
      "Epoch 11/20, Validation Accuracy: 98.68%\n",
      "938/938 [==============================] - 10s 11ms/step - loss: 0.0092 - accuracy: 0.9974\n",
      "Epoch 12/20, Validation Accuracy: 98.76%\n",
      "938/938 [==============================] - 10s 11ms/step - loss: 0.0089 - accuracy: 0.9973\n",
      "Epoch 13/20, Validation Accuracy: 98.70%\n",
      "938/938 [==============================] - 10s 11ms/step - loss: 0.0087 - accuracy: 0.9976\n",
      "Epoch 14/20, Validation Accuracy: 98.66%\n",
      "938/938 [==============================] - 10s 11ms/step - loss: 0.0080 - accuracy: 0.9977\n",
      "Epoch 15/20, Validation Accuracy: 98.66%\n",
      "938/938 [==============================] - 11s 12ms/step - loss: 0.0071 - accuracy: 0.9980\n",
      "Epoch 16/20, Validation Accuracy: 98.41%\n",
      "938/938 [==============================] - 11s 11ms/step - loss: 0.0075 - accuracy: 0.9979\n",
      "Epoch 17/20, Validation Accuracy: 98.60%\n",
      "938/938 [==============================] - 10s 11ms/step - loss: 0.0065 - accuracy: 0.9980\n",
      "Epoch 18/20, Validation Accuracy: 98.60%\n",
      "938/938 [==============================] - 10s 11ms/step - loss: 0.0060 - accuracy: 0.9982\n",
      "Epoch 19/20, Validation Accuracy: 98.45%\n",
      "938/938 [==============================] - 10s 11ms/step - loss: 0.0065 - accuracy: 0.9979\n",
      "Epoch 20/20, Validation Accuracy: 98.48%\n"
     ]
    }
   ],
   "source": [
    "# Training loop\n",
    "with tf.device('GPU:0'):\n",
    "    epochs = 20\n",
    "    for epoch in range(epochs):\n",
    "        model.fit(x_train, y_train, batch_size=64, epochs=1, verbose=1)\n",
    "\n",
    "        # Evaluate on the validation set\n",
    "        _, accuracy = model.evaluate(x_test, y_test, verbose=0)\n",
    "        print(f'Epoch {epoch + 1}/{epochs}, Validation Accuracy: {accuracy * 100:.2f}%')\n",
    "\n",
    "        # Stop training if the desired accuracy is reached\n",
    "        if accuracy >= 0.994:\n",
    "            print('Desired accuracy reached. Training stopped.')\n",
    "            break\n"
   ]
  },
  {
   "cell_type": "code",
   "execution_count": 7,
   "id": "8e400b89",
   "metadata": {},
   "outputs": [],
   "source": [
    "import torch\n",
    "import torch.nn as nn\n",
    "import torch.optim as optim\n",
    "from torchvision import datasets, transforms\n",
    "\n",
    "# Set random seeds for reproducibility\n",
    "torch.manual_seed(42)\n",
    "\n",
    "# Define the CNN architecture\n",
    "class CNN(nn.Module):\n",
    "    def __init__(self):\n",
    "        super(CNN, self).__init__()\n",
    "        self.conv1 = nn.Conv2d(1, 16, kernel_size=3, stride=1, padding=1)\n",
    "        self.conv2 = nn.Conv2d(16, 32, kernel_size=3, stride=1, padding=1)\n",
    "        self.fc = nn.Linear(7 * 7 * 32, 10)  # 7x7 feature maps after convolution\n",
    "\n",
    "    def forward(self, x):\n",
    "        x = nn.functional.relu(self.conv1(x))\n",
    "        x = nn.functional.max_pool2d(x, 2)\n",
    "        x = nn.functional.relu(self.conv2(x))\n",
    "        x = nn.functional.max_pool2d(x, 2)\n",
    "        x = x.view(x.size(0), -1)\n",
    "        x = self.fc(x)\n",
    "        return x\n",
    "\n",
    "# Define the data transformations\n",
    "transform = transforms.Compose([\n",
    "    transforms.ToTensor(),\n",
    "    transforms.Normalize((0.1307,), (0.3081,))\n",
    "])\n",
    "\n"
   ]
  },
  {
   "cell_type": "code",
   "execution_count": 8,
   "id": "ff6166a3",
   "metadata": {},
   "outputs": [
    {
     "name": "stdout",
     "output_type": "stream",
     "text": [
      "Downloading http://yann.lecun.com/exdb/mnist/train-images-idx3-ubyte.gz\n",
      "Downloading http://yann.lecun.com/exdb/mnist/train-images-idx3-ubyte.gz to data\\MNIST\\raw\\train-images-idx3-ubyte.gz\n"
     ]
    },
    {
     "name": "stderr",
     "output_type": "stream",
     "text": [
      "100%|███████████████████████████████████████████████████████████████████| 9912422/9912422 [00:03<00:00, 3018113.91it/s]\n"
     ]
    },
    {
     "name": "stdout",
     "output_type": "stream",
     "text": [
      "Extracting data\\MNIST\\raw\\train-images-idx3-ubyte.gz to data\\MNIST\\raw\n",
      "\n",
      "Downloading http://yann.lecun.com/exdb/mnist/train-labels-idx1-ubyte.gz\n",
      "Downloading http://yann.lecun.com/exdb/mnist/train-labels-idx1-ubyte.gz to data\\MNIST\\raw\\train-labels-idx1-ubyte.gz\n"
     ]
    },
    {
     "name": "stderr",
     "output_type": "stream",
     "text": [
      "100%|███████████████████████████████████████████████████████████████████████| 28881/28881 [00:00<00:00, 2220554.59it/s]\n"
     ]
    },
    {
     "name": "stdout",
     "output_type": "stream",
     "text": [
      "Extracting data\\MNIST\\raw\\train-labels-idx1-ubyte.gz to data\\MNIST\\raw\n",
      "\n",
      "Downloading http://yann.lecun.com/exdb/mnist/t10k-images-idx3-ubyte.gz\n",
      "Downloading http://yann.lecun.com/exdb/mnist/t10k-images-idx3-ubyte.gz to data\\MNIST\\raw\\t10k-images-idx3-ubyte.gz\n"
     ]
    },
    {
     "name": "stderr",
     "output_type": "stream",
     "text": [
      "100%|███████████████████████████████████████████████████████████████████| 1648877/1648877 [00:01<00:00, 1537788.11it/s]\n"
     ]
    },
    {
     "name": "stdout",
     "output_type": "stream",
     "text": [
      "Extracting data\\MNIST\\raw\\t10k-images-idx3-ubyte.gz to data\\MNIST\\raw\n",
      "\n",
      "Downloading http://yann.lecun.com/exdb/mnist/t10k-labels-idx1-ubyte.gz\n",
      "Downloading http://yann.lecun.com/exdb/mnist/t10k-labels-idx1-ubyte.gz to data\\MNIST\\raw\\t10k-labels-idx1-ubyte.gz\n"
     ]
    },
    {
     "name": "stderr",
     "output_type": "stream",
     "text": [
      "100%|█████████████████████████████████████████████████████████████████████████| 4542/4542 [00:00<00:00, 1509670.24it/s]"
     ]
    },
    {
     "name": "stdout",
     "output_type": "stream",
     "text": [
      "Extracting data\\MNIST\\raw\\t10k-labels-idx1-ubyte.gz to data\\MNIST\\raw\n",
      "\n"
     ]
    },
    {
     "name": "stderr",
     "output_type": "stream",
     "text": [
      "\n"
     ]
    }
   ],
   "source": [
    "# Load the MNIST dataset\n",
    "train_dataset = datasets.MNIST('data', train=True, download=True, transform=transform)\n",
    "test_dataset = datasets.MNIST('data', train=False, transform=transform)\n",
    "\n",
    "# Create data loaders\n",
    "train_loader = torch.utils.data.DataLoader(train_dataset, batch_size=64, shuffle=True)\n",
    "test_loader = torch.utils.data.DataLoader(test_dataset, batch_size=64, shuffle=False)\n",
    "\n",
    "# Instantiate the CNN model\n",
    "model = CNN()\n",
    "\n",
    "# Define the loss function and optimizer\n",
    "criterion = nn.CrossEntropyLoss()\n",
    "optimizer = optim.Adam(model.parameters(), lr=0.001)\n",
    "\n"
   ]
  },
  {
   "cell_type": "code",
   "execution_count": 9,
   "id": "324f34ff",
   "metadata": {},
   "outputs": [
    {
     "name": "stdout",
     "output_type": "stream",
     "text": [
      "Epoch 1/10, Validation Accuracy: 98.18%\n",
      "Epoch 2/10, Validation Accuracy: 98.44%\n",
      "Epoch 3/10, Validation Accuracy: 98.47%\n",
      "Epoch 4/10, Validation Accuracy: 98.79%\n",
      "Epoch 5/10, Validation Accuracy: 98.88%\n",
      "Epoch 6/10, Validation Accuracy: 98.98%\n",
      "Epoch 7/10, Validation Accuracy: 98.69%\n",
      "Epoch 8/10, Validation Accuracy: 98.96%\n",
      "Epoch 9/10, Validation Accuracy: 98.88%\n",
      "Epoch 10/10, Validation Accuracy: 98.76%\n"
     ]
    }
   ],
   "source": [
    "# Training loop\n",
    "epochs = 10\n",
    "for epoch in range(epochs):\n",
    "    model.train()\n",
    "    for batch_idx, (data, target) in enumerate(train_loader):\n",
    "        optimizer.zero_grad()\n",
    "        output = model(data)\n",
    "        loss = criterion(output, target)\n",
    "        loss.backward()\n",
    "        optimizer.step()\n",
    "\n",
    "    # Evaluate on the validation set\n",
    "    model.eval()\n",
    "    correct = 0\n",
    "    total = 0\n",
    "    with torch.no_grad():\n",
    "        for data, target in test_loader:\n",
    "            output = model(data)\n",
    "            _, predicted = torch.max(output.data, 1)\n",
    "            total += target.size(0)\n",
    "            correct += (predicted == target).sum().item()\n",
    "\n",
    "    accuracy = 100.0 * correct / total\n",
    "    print(f'Epoch {epoch + 1}/{epochs}, Validation Accuracy: {accuracy:.2f}%')\n",
    "\n",
    "    # Stop training if the desired accuracy is reached\n",
    "    if accuracy >= 99.40:\n",
    "        print('Desired accuracy reached. Training stopped.')\n",
    "        break\n"
   ]
  },
  {
   "cell_type": "code",
   "execution_count": null,
   "id": "6bef074f",
   "metadata": {},
   "outputs": [],
   "source": []
  }
 ],
 "metadata": {
  "kernelspec": {
   "display_name": "Python 3 (ipykernel)",
   "language": "python",
   "name": "python3"
  },
  "language_info": {
   "codemirror_mode": {
    "name": "ipython",
    "version": 3
   },
   "file_extension": ".py",
   "mimetype": "text/x-python",
   "name": "python",
   "nbconvert_exporter": "python",
   "pygments_lexer": "ipython3",
   "version": "3.10.9"
  }
 },
 "nbformat": 4,
 "nbformat_minor": 5
}
